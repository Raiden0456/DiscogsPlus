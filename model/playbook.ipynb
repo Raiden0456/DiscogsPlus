{
 "cells": [
  {
   "cell_type": "code",
   "execution_count": 1,
   "metadata": {},
   "outputs": [
    {
     "data": {
      "text/plain": [
       "True"
      ]
     },
     "execution_count": 1,
     "metadata": {},
     "output_type": "execute_result"
    }
   ],
   "source": [
    "import json\n",
    "import pandas as pd\n",
    "\n",
    "import psycopg2\n",
    "import os\n",
    "from dotenv import load_dotenv\n",
    "from surprise import SVD, Dataset, Reader,KNNBasic,KNNBaseline,KNNWithMeans\n",
    "from surprise.model_selection import train_test_split,cross_validate,GridSearchCV\n",
    "load_dotenv()\n"
   ]
  },
  {
   "cell_type": "code",
   "execution_count": 18,
   "metadata": {},
   "outputs": [],
   "source": [
    "def connect_database():\n",
    "    conn = psycopg2.connect(\n",
    "        host=os.getenv('HOST'),\n",
    "        dbname=os.getenv('DATABASE_NAME'),\n",
    "        user=os.getenv('USER_DB'),\n",
    "        password=os.getenv('PASSWORD'),\n",
    "        port=os.getenv('PORT')\n",
    "    )\n",
    "    return conn"
   ]
  },
  {
   "cell_type": "code",
   "execution_count": 19,
   "metadata": {},
   "outputs": [
    {
     "name": "stderr",
     "output_type": "stream",
     "text": [
      "/var/folders/41/ry041x6n14l4pdd350dygsfh0000gn/T/ipykernel_10153/1891838526.py:10: UserWarning: pandas only supports SQLAlchemy connectable (engine/connection) or database string URI or sqlite3 DBAPI2 connection. Other DBAPI2 objects are not tested. Please consider using SQLAlchemy.\n",
      "  collection_df = pd.read_sql_query(query1, conn)\n"
     ]
    }
   ],
   "source": [
    "conn = connect_database()\n",
    "cur = conn.cursor()\n",
    "\n",
    "query1 = \"\"\"SELECT uc.id, uc.username, unnested.release_id, r.release_year\n",
    "FROM user_collection AS uc\n",
    "JOIN LATERAL unnest(uc.collection_ids) AS unnested(release_id) ON true\n",
    "JOIN release AS r ON unnested.release_id = r.id;\n",
    "\"\"\"\n",
    "collection_df = pd.read_sql_query(query1, conn)\n",
    "collection_df['score'] = 2"
   ]
  },
  {
   "cell_type": "code",
   "execution_count": 20,
   "metadata": {},
   "outputs": [
    {
     "name": "stderr",
     "output_type": "stream",
     "text": [
      "/var/folders/41/ry041x6n14l4pdd350dygsfh0000gn/T/ipykernel_10153/3493328829.py:6: UserWarning: pandas only supports SQLAlchemy connectable (engine/connection) or database string URI or sqlite3 DBAPI2 connection. Other DBAPI2 objects are not tested. Please consider using SQLAlchemy.\n",
      "  wantlist_df = pd.read_sql_query(query2, conn)\n"
     ]
    }
   ],
   "source": [
    "query2= \"\"\"\n",
    "SELECT uw.id, uw.username, unnested.release_id, r.release_year\n",
    "FROM user_wantlist AS uw\n",
    "JOIN LATERAL unnest(uw.wantlist_ids) AS unnested(release_id) ON true\n",
    "JOIN release AS r ON unnested.release_id = r.id;\"\"\"\n",
    "wantlist_df = pd.read_sql_query(query2, conn)\n",
    "wantlist_df['score'] = 1\n",
    "cur.close()\n",
    "conn.close()\n"
   ]
  },
  {
   "cell_type": "code",
   "execution_count": 21,
   "metadata": {},
   "outputs": [],
   "source": [
    "merged_df = pd.concat([collection_df, wantlist_df], ignore_index=True)\n",
    "merged_df = merged_df.rename(columns={'id':'user_id'})\n"
   ]
  },
  {
   "cell_type": "code",
   "execution_count": 31,
   "metadata": {},
   "outputs": [
    {
     "data": {
      "text/html": [
       "<div>\n",
       "<style scoped>\n",
       "    .dataframe tbody tr th:only-of-type {\n",
       "        vertical-align: middle;\n",
       "    }\n",
       "\n",
       "    .dataframe tbody tr th {\n",
       "        vertical-align: top;\n",
       "    }\n",
       "\n",
       "    .dataframe thead th {\n",
       "        text-align: right;\n",
       "    }\n",
       "</style>\n",
       "<table border=\"1\" class=\"dataframe\">\n",
       "  <thead>\n",
       "    <tr style=\"text-align: right;\">\n",
       "      <th></th>\n",
       "      <th>user_id</th>\n",
       "      <th>username</th>\n",
       "      <th>release_id</th>\n",
       "      <th>release_year</th>\n",
       "      <th>score</th>\n",
       "    </tr>\n",
       "  </thead>\n",
       "  <tbody>\n",
       "    <tr>\n",
       "      <th>13</th>\n",
       "      <td>7</td>\n",
       "      <td>AlessandroFischer</td>\n",
       "      <td>5842450</td>\n",
       "      <td>2000.0</td>\n",
       "      <td>2</td>\n",
       "    </tr>\n",
       "    <tr>\n",
       "      <th>15</th>\n",
       "      <td>8</td>\n",
       "      <td>daveybonez</td>\n",
       "      <td>4128</td>\n",
       "      <td>2001.0</td>\n",
       "      <td>2</td>\n",
       "    </tr>\n",
       "    <tr>\n",
       "      <th>16</th>\n",
       "      <td>9</td>\n",
       "      <td>KRAKE1000</td>\n",
       "      <td>86736</td>\n",
       "      <td>1992.0</td>\n",
       "      <td>2</td>\n",
       "    </tr>\n",
       "    <tr>\n",
       "      <th>19</th>\n",
       "      <td>162</td>\n",
       "      <td>Arobelidze</td>\n",
       "      <td>50047</td>\n",
       "      <td>1993.0</td>\n",
       "      <td>2</td>\n",
       "    </tr>\n",
       "    <tr>\n",
       "      <th>20</th>\n",
       "      <td>162</td>\n",
       "      <td>Arobelidze</td>\n",
       "      <td>107820</td>\n",
       "      <td>1992.0</td>\n",
       "      <td>2</td>\n",
       "    </tr>\n",
       "    <tr>\n",
       "      <th>...</th>\n",
       "      <td>...</td>\n",
       "      <td>...</td>\n",
       "      <td>...</td>\n",
       "      <td>...</td>\n",
       "      <td>...</td>\n",
       "    </tr>\n",
       "    <tr>\n",
       "      <th>2173734</th>\n",
       "      <td>526</td>\n",
       "      <td>flaxy</td>\n",
       "      <td>404111</td>\n",
       "      <td>1998.0</td>\n",
       "      <td>1</td>\n",
       "    </tr>\n",
       "    <tr>\n",
       "      <th>2173735</th>\n",
       "      <td>526</td>\n",
       "      <td>flaxy</td>\n",
       "      <td>209915</td>\n",
       "      <td>1998.0</td>\n",
       "      <td>1</td>\n",
       "    </tr>\n",
       "    <tr>\n",
       "      <th>2173736</th>\n",
       "      <td>526</td>\n",
       "      <td>flaxy</td>\n",
       "      <td>1189622</td>\n",
       "      <td>2002.0</td>\n",
       "      <td>1</td>\n",
       "    </tr>\n",
       "    <tr>\n",
       "      <th>2173739</th>\n",
       "      <td>526</td>\n",
       "      <td>flaxy</td>\n",
       "      <td>70732</td>\n",
       "      <td>1996.0</td>\n",
       "      <td>1</td>\n",
       "    </tr>\n",
       "    <tr>\n",
       "      <th>2173742</th>\n",
       "      <td>526</td>\n",
       "      <td>flaxy</td>\n",
       "      <td>99103</td>\n",
       "      <td>1995.0</td>\n",
       "      <td>1</td>\n",
       "    </tr>\n",
       "  </tbody>\n",
       "</table>\n",
       "<p>1347961 rows × 5 columns</p>\n",
       "</div>"
      ],
      "text/plain": [
       "         user_id           username  release_id  release_year  score\n",
       "13             7  AlessandroFischer     5842450        2000.0      2\n",
       "15             8         daveybonez        4128        2001.0      2\n",
       "16             9          KRAKE1000       86736        1992.0      2\n",
       "19           162         Arobelidze       50047        1993.0      2\n",
       "20           162         Arobelidze      107820        1992.0      2\n",
       "...          ...                ...         ...           ...    ...\n",
       "2173734      526              flaxy      404111        1998.0      1\n",
       "2173735      526              flaxy      209915        1998.0      1\n",
       "2173736      526              flaxy     1189622        2002.0      1\n",
       "2173739      526              flaxy       70732        1996.0      1\n",
       "2173742      526              flaxy       99103        1995.0      1\n",
       "\n",
       "[1347961 rows x 5 columns]"
      ]
     },
     "execution_count": 31,
     "metadata": {},
     "output_type": "execute_result"
    }
   ],
   "source": [
    "filtered_df =merged_df[(merged_df['release_year'] >  1980) & (merged_df['release_year'] < 2005)]\n",
    "\n",
    "filtered_df\n"
   ]
  },
  {
   "cell_type": "code",
   "execution_count": 23,
   "metadata": {},
   "outputs": [
    {
     "name": "stdout",
     "output_type": "stream",
     "text": [
      "We have 505 unique users\n",
      "We have 904462 unique releases\n"
     ]
    }
   ],
   "source": [
    "print(f\"We have {len(merged_df['username'].unique())} unique users\")\n",
    "print(f\"We have {len(merged_df['release_id'].unique())} unique releases\")"
   ]
  },
  {
   "cell_type": "code",
   "execution_count": 32,
   "metadata": {},
   "outputs": [],
   "source": [
    "reader = Reader(rating_scale=(1, 2))\n",
    "data = Dataset.load_from_df(filtered_df[['user_id','release_id','score']],reader)"
   ]
  },
  {
   "cell_type": "code",
   "execution_count": 33,
   "metadata": {},
   "outputs": [],
   "source": [
    "trainset,testset = train_test_split(data,test_size=0.2)\n",
    "algo = SVD()"
   ]
  },
  {
   "cell_type": "code",
   "execution_count": 34,
   "metadata": {},
   "outputs": [],
   "source": [
    "algo.fit(trainset)\n",
    "predictions = algo.test(testset)"
   ]
  },
  {
   "cell_type": "code",
   "execution_count": 35,
   "metadata": {},
   "outputs": [],
   "source": [
    "N = 10\n",
    "\n",
    "\n",
    "user_releases = set(merged_df[merged_df['user_id'] == 109]['release_id'].tolist())\n",
    "\n",
    "user_id = 109 \n",
    "item_ids = merged_df['release_id'].unique().tolist()\n",
    "user_ratings = {item_id: algo.predict(user_id, item_id).est for item_id in item_ids if item_id not in user_releases}\n",
    "recommended_items = sorted(user_ratings, key=user_ratings.get, reverse=True)[:N] \n"
   ]
  },
  {
   "cell_type": "code",
   "execution_count": 13,
   "metadata": {},
   "outputs": [
    {
     "data": {
      "text/plain": [
       "[1029773,\n",
       " 120012,\n",
       " 19725394,\n",
       " 11159284,\n",
       " 16081198,\n",
       " 1165115,\n",
       " 368781,\n",
       " 6044574,\n",
       " 2045891,\n",
       " 139247]"
      ]
     },
     "execution_count": 13,
     "metadata": {},
     "output_type": "execute_result"
    }
   ],
   "source": [
    "recommended_items"
   ]
  },
  {
   "cell_type": "code",
   "execution_count": 36,
   "metadata": {},
   "outputs": [
    {
     "name": "stdout",
     "output_type": "stream",
     "text": [
      "100 Years Later By  Organ Grinda On  Pro-Jex  UK  2001\n",
      "Casting EP By  Elesbaan On  Audiodrome  Spain  1999\n",
      "Inner Laugh (Disc.01) By  Roland Klinkenberg On  Lost Language  UK  2000\n",
      "Keep Your Crossover By  Dual Race On  Syncopate  UK  1997\n",
      "Rich In Paradise / Going Back To My Roots By  FPI Project On  Rumour Records  UK  1989\n",
      "Scorchio By  Darren Emerson, Sasha On  Deconstruction  UK  2000\n",
      "Stealth (12 Inch No.2) By  Way Out West, Kirsty Hawkshaw On  Distinct'ive Breaks  UK  2002\n",
      "The Sound Of Slacker EP By  Slacker On  Jukebox In The Sky  UK  2001\n",
      "Throbbing Disco Cat By  Takkyu Ishino On  Ki/oon  Japan  1999\n",
      "Throbbing Disco Cat By  Takkyu Ishino On  Loopa  Japan  1999\n",
      "Touch By  Jeroen Schrijvershof On  Search  Netherlands  1997\n"
     ]
    }
   ],
   "source": [
    "conn = connect_database()\n",
    "cur = conn.cursor()\n",
    "q = f\"\"\"\n",
    "SELECT r.id, r.title, STRING_AGG(ra.artist_name, ', ') as artists, rl.label_name, r.country, r.release_year\n",
    "FROM release AS r\n",
    "JOIN release_artist AS ra ON r.id = ra.release_id\n",
    "JOIN release_label AS rl ON r.id = rl.release_id\n",
    "WHERE r.id IN {tuple(recommended_items)} AND ra.extra = '0'\n",
    "GROUP BY r.id, r.title, rl.label_name, r.country, r.release_year\n",
    "ORDER BY r.title\n",
    "\"\"\"\n",
    "\n",
    "\n",
    "cur.execute(q)\n",
    "res = cur.fetchall()\n",
    "\n",
    "for id,title,artist,label,country,year in res:\n",
    "    print(f\"{title} By  {artist} On  {label}  {country}  {year}\")\n",
    "    "
   ]
  }
 ],
 "metadata": {
  "kernelspec": {
   "display_name": "discogs_env",
   "language": "python",
   "name": "python3"
  },
  "language_info": {
   "codemirror_mode": {
    "name": "ipython",
    "version": 3
   },
   "file_extension": ".py",
   "mimetype": "text/x-python",
   "name": "python",
   "nbconvert_exporter": "python",
   "pygments_lexer": "ipython3",
   "version": "3.10.6"
  },
  "orig_nbformat": 4
 },
 "nbformat": 4,
 "nbformat_minor": 2
}
